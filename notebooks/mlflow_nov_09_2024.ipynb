{
 "cells": [
  {
   "cell_type": "markdown",
   "id": "75104b6b-020d-44a9-b443-5dcc57895b1d",
   "metadata": {},
   "source": [
    "### Required Packages\n",
    "\n",
    "    !pip install numpy pandas scikit-learn mlflow"
   ]
  },
  {
   "cell_type": "code",
   "execution_count": 1,
   "id": "bd3ca6d3-a7b8-4767-a94f-100a206f89a7",
   "metadata": {},
   "outputs": [],
   "source": [
    "# Import necessary libraries\n",
    "from sklearn.datasets import load_iris\n",
    "import mlflow\n",
    "import mlflow.sklearn\n",
    "from sklearn.model_selection import train_test_split\n",
    "from sklearn.linear_model import LogisticRegression\n",
    "from sklearn.metrics import accuracy_score, classification_report\n",
    "\n",
    "# Step 1: Load the Iris dataset\n",
    "iris = load_iris()\n",
    "X = iris.data  # Features: sepal length, sepal width, petal length, petal width\n",
    "y = iris.target  # Labels: 0 = setosa, 1 = versicolor, 2 = virginica\n",
    "\n"
   ]
  },
  {
   "cell_type": "code",
   "execution_count": 2,
   "id": "4c0451a7-cc33-4344-84d9-2bc73381ad82",
   "metadata": {},
   "outputs": [],
   "source": [
    "## enable autologging\n",
    "mlflow.sklearn.autolog()"
   ]
  },
  {
   "cell_type": "code",
   "execution_count": 3,
   "id": "9e3fe0a9-540c-4ada-b36f-2ef2db2254b3",
   "metadata": {},
   "outputs": [],
   "source": [
    "# Step 2: Split the data into training and testing sets\n",
    "X_train, X_test, y_train, y_test = train_test_split(X, y, test_size=0.3, random_state=42)"
   ]
  },
  {
   "cell_type": "code",
   "execution_count": 4,
   "id": "6a1f2532-0151-4c37-a9d8-b1762d0ba4da",
   "metadata": {},
   "outputs": [
    {
     "name": "stdout",
     "output_type": "stream",
     "text": [
      "Accuracy: 1.0\n",
      "Classification Report:\n",
      "              precision    recall  f1-score   support\n",
      "\n",
      "      setosa       1.00      1.00      1.00        19\n",
      "  versicolor       1.00      1.00      1.00        13\n",
      "   virginica       1.00      1.00      1.00        13\n",
      "\n",
      "    accuracy                           1.00        45\n",
      "   macro avg       1.00      1.00      1.00        45\n",
      "weighted avg       1.00      1.00      1.00        45\n",
      "\n"
     ]
    }
   ],
   "source": [
    "with mlflow.start_run():\n",
    "    # Step 3: Create a logistic regression model and fit it to the training data\n",
    "    model = LogisticRegression(max_iter=200)  # max_iter set higher to ensure convergence\n",
    "    model.fit(X_train, y_train)\n",
    "    \n",
    "    # Step 4: Predict the labels on the test set\n",
    "    y_pred = model.predict(X_test)\n",
    "    \n",
    "    # Step 5: Evaluate the model\n",
    "    accuracy = accuracy_score(y_test, y_pred)\n",
    "    report = classification_report(y_test, y_pred, target_names=iris.target_names)\n",
    "    \n",
    "    print(f\"Accuracy: {accuracy}\")\n",
    "    mlflow.log_metric(\"accuracy\",accuracy)\n",
    "    print(\"Classification Report:\")\n",
    "    print(report)"
   ]
  },
  {
   "cell_type": "code",
   "execution_count": 5,
   "id": "7d5ed319-db99-413f-987b-d867a573b25a",
   "metadata": {},
   "outputs": [
    {
     "name": "stdout",
     "output_type": "stream",
     "text": [
      "file:///Users/narkhann/Research_Work/semester-2/deployment_of_ml_models/mlops_classroom/notebooks/mlruns\n"
     ]
    }
   ],
   "source": [
    "print(mlflow.get_tracking_uri())"
   ]
  }
 ],
 "metadata": {
  "kernelspec": {
   "display_name": "Python 3 (ipykernel)",
   "language": "python",
   "name": "python3"
  },
  "language_info": {
   "codemirror_mode": {
    "name": "ipython",
    "version": 3
   },
   "file_extension": ".py",
   "mimetype": "text/x-python",
   "name": "python",
   "nbconvert_exporter": "python",
   "pygments_lexer": "ipython3",
   "version": "3.8.20"
  }
 },
 "nbformat": 4,
 "nbformat_minor": 5
}
